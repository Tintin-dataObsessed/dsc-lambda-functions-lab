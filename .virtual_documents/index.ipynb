





import pandas as pd
df = pd.read_csv('Yelp_Reviews.csv', index_col=0)
df.head(2)





df


# Your code here
df['stars_squared'] = df['stars'].map(lambda x: x ** 2)






# Your code here
df['month']= df['date'].apply(lambda x: x[5:7])





# Your code here

length = df['text'].map(lambda x: len(x.split())).head()
length.mean





# Your code here
df['review'] = df['text'].map(lambda x: len(x.split())).count()






# Rewrite the following function as a lambda function
def rewrite_as_lambda(value):
    if len(value) < 50:
        return 'Short'
    elif len(value) < 80:
        return 'Medium'
    else:
        return 'Long'
# Hint: nest your if, else conditionals

df['Review_length'] = lambda x: 'short' if len(x) < 50 else 'Medium' if len(x) < 80 else 'Long'







# Your code here

dates = df[['date']].head(5)

print(dates)





# Your code here
df['date'] = df['date'].apply(lambda x: '-'.join(x.split('-')[::-1]))



